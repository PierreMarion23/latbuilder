{
 "cells": [
  {
   "cell_type": "code",
   "execution_count": 2,
   "metadata": {},
   "outputs": [],
   "source": [
    "import numpy as np\n",
    "\n",
    "matrices = [\n",
    " np.array([[1, 0, 0],\n",
    "       [0, 1, 0],\n",
    "       [0, 0, 1]]), \n",
    " np.array([[1, 1, 1],\n",
    "       [1, 1, 0],\n",
    "       [1, 0, 0]])]\n",
    "m = len(matrices[0])\n",
    "\n",
    "points = []\n",
    "width = matrices[0].shape[0]\n",
    "nb_points = 2**width\n",
    "mult = np.array([2**(-k) for k in range(1, width+1)])\n",
    "\n",
    "for x in range(nb_points):\n",
    "    x_coord = []\n",
    "    for matrice in matrices:\n",
    "        binary_repr = np.array([((x>>i)&1) for i in range(m)])\n",
    "        prod = np.mod(matrice.dot(binary_repr), 2)\n",
    "        x_coord.append(prod.dot(mult))\n",
    "    points.append(x_coord)"
   ]
  },
  {
   "cell_type": "code",
   "execution_count": 3,
   "metadata": {},
   "outputs": [
    {
     "data": {
      "text/plain": [
       "[[0.0, 0.0],\n",
       " [0.5, 0.875],\n",
       " [0.25, 0.75],\n",
       " [0.75, 0.125],\n",
       " [0.125, 0.5],\n",
       " [0.625, 0.375],\n",
       " [0.375, 0.25],\n",
       " [0.875, 0.625]]"
      ]
     },
     "execution_count": 3,
     "metadata": {},
     "output_type": "execute_result"
    }
   ],
   "source": [
    "points"
   ]
  },
  {
   "cell_type": "code",
   "execution_count": 6,
   "metadata": {},
   "outputs": [
    {
     "data": {
      "text/plain": [
       "[array([[1, 0, 0, 0, 0, 0, 0, 0, 0, 0],\n",
       "        [0, 1, 0, 0, 0, 0, 0, 0, 0, 0],\n",
       "        [0, 0, 1, 0, 0, 0, 0, 0, 0, 0],\n",
       "        [0, 0, 0, 1, 0, 0, 0, 0, 0, 0],\n",
       "        [0, 0, 0, 0, 1, 0, 0, 0, 0, 0],\n",
       "        [0, 0, 0, 0, 0, 1, 0, 0, 0, 0],\n",
       "        [0, 0, 0, 0, 0, 0, 1, 0, 0, 0],\n",
       "        [0, 0, 0, 0, 0, 0, 0, 1, 0, 0],\n",
       "        [0, 0, 0, 0, 0, 0, 0, 0, 1, 0],\n",
       "        [0, 0, 0, 0, 0, 0, 0, 0, 0, 1]]),\n",
       " array([[1, 1, 1, 1, 1, 1, 1, 1, 1, 1],\n",
       "        [0, 1, 0, 1, 0, 1, 0, 1, 0, 1],\n",
       "        [0, 0, 1, 1, 0, 0, 1, 1, 0, 0],\n",
       "        [0, 0, 0, 1, 0, 0, 0, 1, 0, 0],\n",
       "        [0, 0, 0, 0, 1, 1, 1, 1, 0, 0],\n",
       "        [0, 0, 0, 0, 0, 1, 0, 1, 0, 0],\n",
       "        [0, 0, 0, 0, 0, 0, 1, 1, 0, 0],\n",
       "        [0, 0, 0, 0, 0, 0, 0, 1, 0, 0],\n",
       "        [0, 0, 0, 0, 0, 0, 0, 0, 1, 1],\n",
       "        [0, 0, 0, 0, 0, 0, 0, 0, 0, 1]]),\n",
       " array([[1, 1, 0, 1, 1, 0, 1, 1, 0, 1],\n",
       "        [0, 1, 1, 0, 1, 1, 0, 1, 1, 0],\n",
       "        [0, 0, 1, 0, 1, 0, 0, 0, 1, 0],\n",
       "        [0, 0, 0, 1, 0, 1, 0, 0, 0, 1],\n",
       "        [0, 0, 0, 0, 1, 1, 1, 0, 1, 1],\n",
       "        [0, 0, 0, 0, 0, 1, 1, 1, 0, 1],\n",
       "        [0, 0, 0, 0, 0, 0, 1, 0, 0, 0],\n",
       "        [0, 0, 0, 0, 0, 0, 0, 1, 0, 0],\n",
       "        [0, 0, 0, 0, 0, 0, 0, 0, 1, 1],\n",
       "        [0, 0, 0, 0, 0, 0, 0, 0, 0, 1]])]"
      ]
     },
     "execution_count": 6,
     "metadata": {},
     "output_type": "execute_result"
    }
   ],
   "source": [
    "matrices"
   ]
  },
  {
   "cell_type": "code",
   "execution_count": null,
   "metadata": {
    "collapsed": true
   },
   "outputs": [],
   "source": []
  }
 ],
 "metadata": {
  "kernelspec": {
   "display_name": "Python 3",
   "language": "python",
   "name": "python3"
  },
  "language_info": {
   "codemirror_mode": {
    "name": "ipython",
    "version": 3
   },
   "file_extension": ".py",
   "mimetype": "text/x-python",
   "name": "python",
   "nbconvert_exporter": "python",
   "pygments_lexer": "ipython3",
   "version": "3.6.3"
  }
 },
 "nbformat": 4,
 "nbformat_minor": 2
}
